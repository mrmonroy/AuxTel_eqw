{
 "cells": [
  {
   "cell_type": "code",
   "execution_count": 1,
   "id": "1f334be1-3b3f-4905-a6c4-e6ed0d0be634",
   "metadata": {},
   "outputs": [],
   "source": [
    "import numpy as np\n",
    "from astropy.io import fits\n",
    "import matplotlib.pyplot as plt\n",
    "from astropy.visualization import (MinMaxInterval,SqrtStretch,ZScaleInterval,PercentileInterval,ImageNormalize)\n",
    "from astropy.visualization.stretch import SinhStretch, LinearStretch,AsinhStretch,LogStretch\n",
    "from itertools import repeat\n",
    "from matplotlib.colors import LogNorm\n",
    "import os\n",
    "import pandas as pd\n",
    "from scipy.optimize import curve_fit\n",
    "from scipy.integrate import quad\n",
    "import pickle"
   ]
  },
  {
   "cell_type": "code",
   "execution_count": 2,
   "id": "cbe98dd9-c4d7-4a94-a6e6-a17e16015ca5",
   "metadata": {},
   "outputs": [],
   "source": [
    "def fun_fit(x,a,b,c,d):\n",
    "    return a*x**3.+b*x**2.+c*x+d"
   ]
  },
  {
   "cell_type": "code",
   "execution_count": 3,
   "id": "f9de7306-1be3-4cf2-a5ba-e5a62cf13986",
   "metadata": {},
   "outputs": [],
   "source": [
    "inputdir = '/pbs/throng/lsst/users/mrodrigu/desc/AuxTelComm/notebookccdm_gen3/bouguerlines/2022_09/data/'"
   ]
  },
  {
   "cell_type": "code",
   "execution_count": 4,
   "id": "e77df4c1-4257-45f1-95ac-e810aca396cd",
   "metadata": {},
   "outputs": [],
   "source": [
    "file_label = 'run-auxtel-holo-{0}-{1}~{2}-config_DECONVOLUTION_PSF1D.pickle'"
   ]
  },
  {
   "cell_type": "code",
   "execution_count": 5,
   "id": "a5cebc37-8916-49e2-bc4f-b455b51b2feb",
   "metadata": {},
   "outputs": [],
   "source": [
    "obs_date = '20220628'\n",
    "filter = 'FELH0600'\n",
    "disperser = 'holo4_003'"
   ]
  },
  {
   "cell_type": "code",
   "execution_count": 6,
   "id": "308084f9-87d6-4cd0-9854-21cfad71c665",
   "metadata": {},
   "outputs": [],
   "source": [
    "inputfile = os.path.join(inputdir,file_label.format(obs_date,filter,disperser))"
   ]
  },
  {
   "cell_type": "code",
   "execution_count": 7,
   "id": "b2b5cd11-be28-40b1-a7d9-421111a0060c",
   "metadata": {},
   "outputs": [],
   "source": [
    "with open(inputfile,'rb') as f:\n",
    "    spec_dict = pickle.load(f)"
   ]
  },
  {
   "cell_type": "code",
   "execution_count": 63,
   "id": "0d616cd0-34e0-4bad-a754-914842ffb55f",
   "metadata": {},
   "outputs": [],
   "source": [
    "#for key in spec_dict.keys():\n",
    "#    print(spec_dict[key]['number'])"
   ]
  },
  {
   "cell_type": "code",
   "execution_count": 9,
   "id": "b6cc9d34-b67b-4444-beb9-aebab0217f6a",
   "metadata": {},
   "outputs": [],
   "source": [
    "bad_spec = [171,223,250,251,400,425,479,480,538,593,654,655,656,657,683,708]"
   ]
  },
  {
   "cell_type": "code",
   "execution_count": 10,
   "id": "c9673db6-cad6-48e6-8033-e51c24c0629c",
   "metadata": {},
   "outputs": [],
   "source": [
    "spec_dict_good = {}\n",
    "for key in spec_dict.keys():\n",
    "    if int(spec_dict[key]['number']) not in bad_spec:\n",
    "        spec_dict_good[key] = spec_dict[key]"
   ]
  },
  {
   "cell_type": "code",
   "execution_count": 11,
   "id": "b978677c-fe51-4327-a9ef-b1681919cdaf",
   "metadata": {},
   "outputs": [],
   "source": [
    "ref_obs = 'exposure_2022062800143_postisrccd_spectrum.fits'"
   ]
  },
  {
   "cell_type": "code",
   "execution_count": 21,
   "id": "90c33cb5-4f6e-49da-9462-7e8aba96abf3",
   "metadata": {},
   "outputs": [],
   "source": [
    "lambda_ref = spec_dict_good[ref_obs]['all_lambdas']\n",
    "flux_ref = spec_dict_good[ref_obs]['all_fluxes']"
   ]
  },
  {
   "cell_type": "code",
   "execution_count": 58,
   "id": "173fa3e3-d943-47fc-bc0c-78c51b80c64e",
   "metadata": {},
   "outputs": [
    {
     "data": {
      "image/png": "[encoded data removed]",
      "text/plain": [
       "<Figure size 432x288 with 1 Axes>"
      ]
     },
     "metadata": {
      "needs_background": "light"
     },
     "output_type": "display_data"
    }
   ],
   "source": [
    "plt.plot(spec_dict_good[ref_obs]['all_lambdas'],spec_dict_good[ref_obs]['all_fluxes'])\n",
    "plt.xlim(730,800)\n",
    "plt.axvline(x=740,color='r',ls='--')\n",
    "plt.axvline(x=790,color='r',ls='--')\n",
    "plt.axvline(x=756,color='b',ls='--')\n",
    "plt.axvline(x=771,color='b',ls='--')\n",
    "plt.grid()"
   ]
  },
  {
   "cell_type": "code",
   "execution_count": 16,
   "id": "016cad11-feb1-46b6-b695-e62e3bcbfe57",
   "metadata": {},
   "outputs": [],
   "source": [
    "min_cont = 740\n",
    "max_cont = 790\n",
    "min_lin = 756\n",
    "max_lin = 771"
   ]
  },
  {
   "cell_type": "code",
   "execution_count": null,
   "id": "446a8b56-8a53-4dc8-be3f-5efb95e2f981",
   "metadata": {},
   "outputs": [],
   "source": []
  },
  {
   "cell_type": "code",
   "execution_count": null,
   "id": "15ea5a04-7504-460b-b62a-9232b7cb760c",
   "metadata": {},
   "outputs": [],
   "source": []
  },
  {
   "cell_type": "code",
   "execution_count": null,
   "id": "e56478e9-b151-4d9e-b9b8-e1db17c296ba",
   "metadata": {},
   "outputs": [],
   "source": []
  },
  {
   "cell_type": "code",
   "execution_count": 75,
   "id": "0b93b7a6-c8c0-43ec-886e-83222db0cfe9",
   "metadata": {},
   "outputs": [],
   "source": [
    "def eqw(x,flux,min_cont,max_cont,min_lin,max_lin,return_fit=False,make_plot=True,plot_name='test.png'): \n",
    "    \n",
    "    xmask_c = (x>=min_cont)*(x<=max_cont)\n",
    "    xmask_fit = (x>=min_cont)*(x<=min_lin)+(x<=max_cont)*(x>=max_lin)\n",
    "    \n",
    "    \n",
    "    xline = x[xmask_c]\n",
    "    fline = flux[xmask_c]\n",
    "    \n",
    "    xc1 = x[xmask_fit]\n",
    "    yc1 = flux[xmask_fit]\n",
    "\n",
    "    xc2 = x[xmask_fit]\n",
    "    yc2 = flux[xmask_fit]\n",
    "    \n",
    "    xc3 = np.concatenate((xc1,xc2))\n",
    "    yc3 = np.concatenate((yc1,yc2))\n",
    "    \n",
    "    p3,cov3 = curve_fit(fun_fit,xc3,yc3)\n",
    "        \n",
    "    linemask = (xline>=min_lin)*(xline<=max_lin)\n",
    "    xline_model = xline[linemask]\n",
    "    fline_model = fun_fit(xline_model,p3[0],p3[1],p3[2],p3[3])\n",
    "    #fline_model = fun_fit(xline_model,p3[0],p3[1],p3[2],p3[3],p3[4])\n",
    "    #fline_model = fun_fit(xline_model,p3[0],p3[1],p3[2],p3[3],p3[4],p3[5],p3[6],p3[7])\n",
    "    \n",
    "    def fun_fit_(x):\n",
    "        return fun_fit(x,p3[0],p3[1],p3[2],p3[3])\n",
    "    \n",
    "    norm_array = fun_fit_(xline)\n",
    "    \n",
    "    #area_c = np.trapz(fline_model,xline_model)\n",
    "    area_c = quad(fun_fit_,min_lin,max_lin)[0]\n",
    "    area_ul = np.trapz(fline[linemask],xline_model)\n",
    "    \n",
    "    area_l = area_c-area_ul\n",
    "    #print(area_c)\n",
    "    #print(area_ul)\n",
    "    #print(area_l)\n",
    "    \n",
    "    xmin_line = xline_model[np.where(fline[linemask]==np.min(fline[linemask]))[0]][0]\n",
    "    #print(xmin_line)\n",
    "    cont_min = fun_fit(xmin_line,p3[0],p3[1],p3[2],p3[3])\n",
    "    #cont_min = fun_fit(xmin_line,p3[0],p3[1],p3[2],p3[3],p3[4])[0]\n",
    "    #cont_min = fun_fit(xmin_line,p3[0],p3[1],p3[2],p3[3],p3[4],p3[5],p3[6],p3[7])[0]\n",
    "    #print(cont_min)\n",
    "    \n",
    "    eqw = area_l/cont_min\n",
    "    #print('EQW = ',eqw)\n",
    "    \n",
    "    eqwmask = (xline_model>=xmin_line-eqw/2.)*(xline_model<=xmin_line+eqw/2.)\n",
    "    continuum = np.ones(len(fline_model[eqwmask]))*cont_min\n",
    "    #print(continuum)\n",
    "    #print(xmin_line-eqw/2.,xmin_line+eqw/2.)\n",
    "    \n",
    "    #print(len(xline_model))\n",
    "    #print(len(fun_fit(xline_model,p3[0],p3[1],p3[2],p3[3])))\n",
    "    #print(len(fun_fit(xline_model,p3[0],p3[1],p3[2],p3[3],p3[4])))\n",
    "    #print(len(fun_fit(xline_model,p3[0],p3[1],p3[2],p3[3],p3[4],p3[5],p3[6],p3[7])))\n",
    "    #print(len(fline[linemask]))\n",
    "    \n",
    "    if make_plot:\n",
    "        fig=plt.figure(figsize=(10,6))\n",
    "        plt.plot(xline,fline)\n",
    "        plt.plot(xline,fun_fit(xline,p3[0],p3[1],p3[2],p3[3]),ls='--',color='orange')\n",
    "        #plt.plot(xline,fun_fit(xline,p3[0],p3[1],p3[2],p3[3],p3[4]),ls='--',color='orange')\n",
    "        #plt.plot(xline,fun_fit(xline,p3[0],p3[1],p3[2],p3[3],p3[4],p3[5],p3[6],p3[7]),ls='--',color='orange')\n",
    "        plt.fill_between(xline_model,fun_fit(xline_model,p3[0],p3[1],p3[2],p3[3]),fline[linemask],color='gray',alpha=0.2)\n",
    "        #plt.fill_between(xline_model,fun_fit(xline_model,p3[0],p3[1],p3[2],p3[3],p3[4]),fline[linemask],color='gray',alpha=0.2)\n",
    "        #plt.fill_between(xline_model,fline_model,fline[linemask],color='gray',alpha=0.2)\n",
    "        plt.fill_between(xline_model[eqwmask],continuum,color='cyan',alpha=0.2)\n",
    "        #plt.ylim(0.20,0.30)\n",
    "        #plt.ylim(70000,90000)\n",
    "        plt.xlabel(r'$\\lambda \\, [nm]$',fontsize=12)\n",
    "        plt.ylabel(r'$\\gamma \\, / \\, (s \\cdot cm^2 \\cdot nm)$',fontsize=12)\n",
    "        plt.grid()\n",
    "        '''\n",
    "        plot_outdir = 'output_plots/eqw_line_fit_{0}/'.format(source_spec)\n",
    "        if os.path.exists(plot_outdir)==False:\n",
    "            os.mkdir(plot_outdir)\n",
    "        plt.savefig(plot_outdir+plot_name) \n",
    "        '''\n",
    "    if return_fit:\n",
    "        return eqw, p3, xline, fline, fun_fit(xline,p3[0],p3[1],p3[2],p3[3]) #fun_fit(xline,p3[0],p3[1],p3[2],p3[3],p3[4]) #fun_fit(xline,p3[0],p3[1],p3[2],p3[3],p3[4],p3[5],p3[6],p3[7])\n",
    "    else:\n",
    "        return eqw\n",
    "    "
   ]
  },
  {
   "cell_type": "code",
   "execution_count": 76,
   "id": "f52bde33-0135-4c45-9b4f-644588ff4650",
   "metadata": {},
   "outputs": [
    {
     "data": {
      "image/png": "[encoded data removed]",
      "text/plain": [
       "<Figure size 720x432 with 1 Axes>"
      ]
     },
     "metadata": {
      "needs_background": "light"
     },
     "output_type": "display_data"
    }
   ],
   "source": [
    "#eqw, params, x, fl = eqw(x_,specdf_ref,xmask_c,xmin_int,xmax_int,xmin_line)\n",
    "eqw_val = eqw(lambda_ref,flux_ref,min_cont,max_cont,min_lin,max_lin)"
   ]
  },
  {
   "cell_type": "code",
   "execution_count": null,
   "id": "4a277d0f-eb4a-4d7e-a41a-4f46804ceda1",
   "metadata": {},
   "outputs": [],
   "source": []
  },
  {
   "cell_type": "code",
   "execution_count": null,
   "id": "e0dfb6d5-c32d-4f8b-bebd-581f1c5c5e6a",
   "metadata": {},
   "outputs": [],
   "source": []
  },
  {
   "cell_type": "markdown",
   "id": "d68ce849-49e6-4921-8b50-995759e8678f",
   "metadata": {},
   "source": [
    "# Iterate over all available images (both with and without flat-fielding) "
   ]
  },
  {
   "cell_type": "code",
   "execution_count": 77,
   "id": "9a92e4dd-3dd2-4c78-9661-0e2f3cf350d3",
   "metadata": {},
   "outputs": [],
   "source": [
    "airmass = []\n",
    "pressure = []\n",
    "eqwidth = []\n",
    "for spec in spec_dict_good:\n",
    "    #print(spec)\n",
    "    airmass_ = spec_dict_good[spec]['airmass']\n",
    "    pressure_ = spec_dict_good[spec]['pressure']\n",
    "    \n",
    "    lambda_ = spec_dict_good[spec]['all_lambdas']\n",
    "    flux_ = spec_dict_good[spec]['all_fluxes']\n",
    "    #print(lambda_)\n",
    "    #print(flux_)\n",
    "    \n",
    "    eqw_ = eqw(lambda_,flux_,min_cont,max_cont,min_lin,max_lin,make_plot=False)\n",
    "    '''\n",
    "    if eqwdb_<0.:\n",
    "        print(seqn)\n",
    "        plot_name_ = 'fit_line_{0}_eqw0.png'.format(seqn)\n",
    "        eqwdb_ = eqw(x_,flux0,xmask_c,xmin_int,xmax_int,xmin_line,make_plot=True,plot_name=plot_name_)\n",
    "    elif eqwdf_<0.:\n",
    "        print(seqn)\n",
    "        plot_name_ = 'fit_line_{0}_eqwdf.png'.format(seqn)\n",
    "        eqwdf_ = eqw(x_,fluxdf,xmask_c,xmin_int,xmax_int,xmin_line,make_plot=True,plot_name=plot_name_)\n",
    "    \n",
    "    plot_name_ = 'fit_line_{0}_eqw0.png'.format(seqn)\n",
    "    eqw0_ = eqw(x_,flux0,xmask_c,xmin_int,xmax_int,xmin_line,make_plot=True,plot_name=plot_name_)\n",
    "    \n",
    "    plot_name_ = 'fit_line_{0}_eqwdf.png'.format(seqn)\n",
    "    eqwdf_ = eqw(x_,fluxdf,xmask_c,xmin_int,xmax_int,xmin_line,make_plot=True,plot_name=plot_name_)\n",
    "    '''\n",
    "    airmass.append(airmass_)\n",
    "    pressure.append(pressure_)\n",
    "    eqwidth.append(eqw_)\n",
    "airmass = np.array(airmass)\n",
    "pressure = np.array(pressure)\n",
    "eqwidth = np.array(eqwidth)"
   ]
  },
  {
   "cell_type": "code",
   "execution_count": 80,
   "id": "95774f28-a70e-49b1-a529-bd354f0dca9c",
   "metadata": {},
   "outputs": [
    {
     "data": {
      "image/png": "[encoded data removed]",
      "text/plain": [
       "<Figure size 432x288 with 1 Axes>"
      ]
     },
     "metadata": {
      "needs_background": "light"
     },
     "output_type": "display_data"
    }
   ],
   "source": [
    "plt.scatter(airmass,eqwidth)\n",
    "plt.grid()"
   ]
  },
  {
   "cell_type": "code",
   "execution_count": 81,
   "id": "56bc8b97-8037-4597-85c5-ff1431b94bf1",
   "metadata": {},
   "outputs": [
    {
     "data": {
      "image/png": "[encoded data removed]",
      "text/plain": [
       "<Figure size 432x288 with 1 Axes>"
      ]
     },
     "metadata": {
      "needs_background": "light"
     },
     "output_type": "display_data"
    }
   ],
   "source": [
    "plt.scatter(pressure,eqwidth)\n",
    "plt.grid()"
   ]
  },
  {
   "cell_type": "code",
   "execution_count": 79,
   "id": "f5c6e290-d29e-49e3-9a57-c56d7467b2e5",
   "metadata": {},
   "outputs": [
    {
     "data": {
      "image/png": "[encoded data removed]",
      "text/plain": [
       "<Figure size 432x288 with 1 Axes>"
      ]
     },
     "metadata": {
      "needs_background": "light"
     },
     "output_type": "display_data"
    }
   ],
   "source": [
    "plt.scatter(airmass*pressure,eqwidth)\n",
    "plt.grid()"
   ]
  },
  {
   "cell_type": "code",
   "execution_count": null,
   "id": "dfb8c8d7-d49b-417f-bc74-b917472f1d0c",
   "metadata": {},
   "outputs": [],
   "source": []
  },
  {
   "cell_type": "code",
   "execution_count": null,
   "id": "eebcd9f4-6a4b-4cac-bf1b-ec7484474b77",
   "metadata": {},
   "outputs": [],
   "source": []
  },
  {
   "cell_type": "code",
   "execution_count": null,
   "id": "d5b73a67-f10d-4f4d-bd1b-be1a4ce53bd9",
   "metadata": {},
   "outputs": [],
   "source": []
  },
  {
   "cell_type": "code",
   "execution_count": null,
   "id": "81397fbd-27ac-4a55-9118-11c04d690dc6",
   "metadata": {},
   "outputs": [],
   "source": []
  },
  {
   "cell_type": "code",
   "execution_count": null,
   "id": "7d9847e6-122c-4f25-9b18-ad96ef1116a2",
   "metadata": {},
   "outputs": [],
   "source": []
  },
  {
   "cell_type": "code",
   "execution_count": null,
   "id": "1f2e8541-bd42-440d-81f3-fbdd8191e5b8",
   "metadata": {},
   "outputs": [],
   "source": []
  },
  {
   "cell_type": "code",
   "execution_count": null,
   "id": "efe7fc45-3454-46a1-b751-862002bb28f6",
   "metadata": {},
   "outputs": [],
   "source": []
  },
  {
   "cell_type": "code",
   "execution_count": null,
   "id": "970c8567-e591-4185-ad65-0b982287cdee",
   "metadata": {},
   "outputs": [],
   "source": []
  },
  {
   "cell_type": "code",
   "execution_count": null,
   "id": "7536828f-2320-4061-8c72-04702d10bed0",
   "metadata": {},
   "outputs": [],
   "source": []
  },
  {
   "cell_type": "code",
   "execution_count": null,
   "id": "1a5f640d-9b46-405c-9b63-281e8bc89c2a",
   "metadata": {},
   "outputs": [],
   "source": []
  },
  {
   "cell_type": "code",
   "execution_count": null,
   "id": "0425eafd-34dc-4216-9a34-765cc605484c",
   "metadata": {},
   "outputs": [],
   "source": []
  },
  {
   "cell_type": "code",
   "execution_count": null,
   "id": "b6790561-837c-4fa2-83e6-74f1abced8fa",
   "metadata": {},
   "outputs": [],
   "source": []
  }
 ],
 "metadata": {
  "kernelspec": {
   "display_name": "lsst_distrib_w_2021_44",
   "language": "python",
   "name": "lsst_distrib_w_2021_44"
  },
  "language_info": {
   "codemirror_mode": {
    "name": "ipython",
    "version": 3
   },
   "file_extension": ".py",
   "mimetype": "text/x-python",
   "name": "python",
   "nbconvert_exporter": "python",
   "pygments_lexer": "ipython3",
   "version": "3.8.8"
  }
 },
 "nbformat": 4,
 "nbformat_minor": 5
}
